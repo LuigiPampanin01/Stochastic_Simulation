{
 "cells": [
  {
   "cell_type": "code",
   "execution_count": 1,
   "id": "864bedb1",
   "metadata": {},
   "outputs": [
    {
     "name": "stdout",
     "output_type": "stream",
     "text": [
      "Estimated p: 0.7630\n"
     ]
    }
   ],
   "source": [
    "import numpy as np\n",
    "\n",
    "X = np.array([56, 101, 78, 67, 93, 87, 64, 72, 80, 69])\n",
    "n = len(X)\n",
    "a, b = -5, 5\n",
    "B = 10000  \n",
    "\n",
    "emp_mean = np.mean(X)\n",
    "\n",
    "centered_data = X - emp_mean\n",
    "\n",
    "boot_means = []\n",
    "for _ in range(B):\n",
    "    sample = np.random.choice(centered_data, size=n, replace=True)\n",
    "    boot_means.append(np.mean(sample))\n",
    "\n",
    "boot_means = np.array(boot_means)\n",
    "\n",
    "# Step 4: Estimate p\n",
    "p_hat = np.mean((boot_means > a) & (boot_means < b))\n",
    "print(f\"Estimated p: {p_hat:.4f}\")"
   ]
  }
 ],
 "metadata": {
  "kernelspec": {
   "display_name": "stochastic_simulation_env",
   "language": "python",
   "name": "python3"
  },
  "language_info": {
   "codemirror_mode": {
    "name": "ipython",
    "version": 3
   },
   "file_extension": ".py",
   "mimetype": "text/x-python",
   "name": "python",
   "nbconvert_exporter": "python",
   "pygments_lexer": "ipython3",
   "version": "3.11.8"
  }
 },
 "nbformat": 4,
 "nbformat_minor": 5
}
