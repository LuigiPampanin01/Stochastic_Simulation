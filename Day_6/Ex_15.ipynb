{
 "cells": [
  {
   "cell_type": "code",
   "execution_count": 8,
   "id": "59792bc9",
   "metadata": {},
   "outputs": [],
   "source": [
    "import numpy as np"
   ]
  },
  {
   "cell_type": "code",
   "execution_count": 9,
   "id": "a546ec8f",
   "metadata": {},
   "outputs": [],
   "source": [
    "original_dataset = np.array([5,4,9,6,21,17,11,20,7,10,21,15,13,16,8])\n",
    "n = len(original_dataset)\n",
    "B = 100000"
   ]
  },
  {
   "cell_type": "code",
   "execution_count": 10,
   "id": "254b3c54",
   "metadata": {},
   "outputs": [
    {
     "name": "stdout",
     "output_type": "stream",
     "text": [
      "58.49966829564202\n"
     ]
    }
   ],
   "source": [
    "boot_var = []\n",
    "for _ in range(B):\n",
    "    sample = np.random.choice(original_dataset, size=n, replace=True)\n",
    "    boot_var.append(np.var(sample, ddof = 1))\n",
    "\n",
    "var_var = np.var(boot_var, ddof = 1)\n",
    "\n",
    "print(var_var)"
   ]
  }
 ],
 "metadata": {
  "kernelspec": {
   "display_name": "stochastic_simulation_env",
   "language": "python",
   "name": "python3"
  },
  "language_info": {
   "codemirror_mode": {
    "name": "ipython",
    "version": 3
   },
   "file_extension": ".py",
   "mimetype": "text/x-python",
   "name": "python",
   "nbconvert_exporter": "python",
   "pygments_lexer": "ipython3",
   "version": "3.11.8"
  }
 },
 "nbformat": 4,
 "nbformat_minor": 5
}
