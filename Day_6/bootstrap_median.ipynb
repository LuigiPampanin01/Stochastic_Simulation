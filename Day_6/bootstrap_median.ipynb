{
 "cells": [
  {
   "cell_type": "code",
   "execution_count": 2,
   "id": "172a439a",
   "metadata": {},
   "outputs": [],
   "source": [
    "import numpy as np"
   ]
  },
  {
   "cell_type": "code",
   "execution_count": 3,
   "id": "51035eda",
   "metadata": {},
   "outputs": [],
   "source": [
    "r = 100\n",
    "N = 200\n",
    "beta = 1\n",
    "k = 1.05\n",
    "\n",
    "pareto_samples = beta * (1 + np.random.pareto(k, N))"
   ]
  },
  {
   "cell_type": "code",
   "execution_count": 4,
   "id": "f33739fd",
   "metadata": {},
   "outputs": [
    {
     "name": "stdout",
     "output_type": "stream",
     "text": [
      "Mean: 7.9554\n",
      "Median: 1.9868\n"
     ]
    }
   ],
   "source": [
    "mean_value = np.mean(pareto_samples)\n",
    "median_value = np.median(pareto_samples)\n",
    "print(f\"Mean: {mean_value:.4f}\")\n",
    "print(f\"Median: {median_value:.4f}\")"
   ]
  },
  {
   "cell_type": "code",
   "execution_count": 6,
   "id": "4639b2f8",
   "metadata": {},
   "outputs": [
    {
     "name": "stdout",
     "output_type": "stream",
     "text": [
      "5.838378917724848\n"
     ]
    }
   ],
   "source": [
    "n = len(pareto_samples)\n",
    "B = 10000\n",
    "boot_mean = []\n",
    "\n",
    "for _ in range(B):\n",
    "    sample = np.random.choice(pareto_samples, size=n, replace=True)\n",
    "    boot_mean.append(np.mean(sample))\n",
    "\n",
    "var_mean_boot = np.var(boot_mean, ddof  = 1)\n",
    "print(var_mean_boot)"
   ]
  },
  {
   "cell_type": "code",
   "execution_count": 7,
   "id": "f5df7ffb",
   "metadata": {},
   "outputs": [
    {
     "name": "stdout",
     "output_type": "stream",
     "text": [
      "0.03261422672671425\n"
     ]
    }
   ],
   "source": [
    "boot_median = []\n",
    "\n",
    "for _ in range(B):\n",
    "    sample = np.random.choice(pareto_samples, size=n, replace=True)\n",
    "    boot_median.append(np.median(sample))\n",
    "\n",
    "var_median_boot = np.var(boot_median, ddof  = 1)\n",
    "print(var_median_boot)"
   ]
  }
 ],
 "metadata": {
  "kernelspec": {
   "display_name": "stochastic_simulation_env",
   "language": "python",
   "name": "python3"
  },
  "language_info": {
   "codemirror_mode": {
    "name": "ipython",
    "version": 3
   },
   "file_extension": ".py",
   "mimetype": "text/x-python",
   "name": "python",
   "nbconvert_exporter": "python",
   "pygments_lexer": "ipython3",
   "version": "3.11.8"
  }
 },
 "nbformat": 4,
 "nbformat_minor": 5
}
