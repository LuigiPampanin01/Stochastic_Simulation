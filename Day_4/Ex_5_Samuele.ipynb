{
 "cells": [
  {
   "cell_type": "code",
   "execution_count": null,
   "id": "5669f39f",
   "metadata": {},
   "outputs": [
    {
     "name": "stdout",
     "output_type": "stream",
     "text": [
      "Estimated integral: 1.710611290336728, Exact integral: 1.718281828459045, Error: 0.007670538122316994\n"
     ]
    }
   ],
   "source": [
    "# monte carlo integration\n",
    "\n",
    "import numpy as np\n",
    "\n",
    "n_samples = 100\n",
    "\n",
    "U = np.random.uniform(0,1, size = n_samples)\n",
    "X = np.exp(U)\n",
    "\n",
    "int = np.sum(X)/n_samples\n",
    "\n",
    "exact_int = np.e-1\n",
    "\n",
    "error = exact_int - int\n",
    "print(f'Estimated integral: {int}, Exact integral: {exact_int}, Error: {error}')"
   ]
  },
  {
   "cell_type": "code",
   "execution_count": 5,
   "id": "62bb7803",
   "metadata": {},
   "outputs": [
    {
     "name": "stdout",
     "output_type": "stream",
     "text": [
      "Estimated integral: 1.7180302258676363, Exact integral: 1.718281828459045, Error: 0.0002516025914087727\n"
     ]
    }
   ],
   "source": [
    "# Anthitetic variables\n",
    "\n",
    "Y = (np.exp(U) + np.exp(1-U)) /2\n",
    "int_anthitetic = np.sum(Y)/n_samples\n",
    "\n",
    "\n",
    "error = exact_int - int_anthitetic\n",
    "\n",
    "print(f'Estimated integral: {int_anthitetic}, Exact integral: {exact_int}, Error: {error}')"
   ]
  },
  {
   "cell_type": "code",
   "execution_count": 6,
   "id": "6d213f26",
   "metadata": {},
   "outputs": [
    {
     "name": "stdout",
     "output_type": "stream",
     "text": [
      "Estimated integral: 1.7178699919669653, Exact integral: 1.718281828459045, Error: 0.0004118364920797646\n"
     ]
    }
   ],
   "source": [
    "# Control variable\n",
    "\n",
    "c = - 0.14086*12\n",
    "Z = X + c*(U - 0.5)\n",
    "\n",
    "int_control = np.sum(Z)/n_samples\n",
    "error = exact_int - int_control\n",
    "\n",
    "print(f'Estimated integral: {int_control}, Exact integral: {exact_int}, Error: {error}')"
   ]
  },
  {
   "cell_type": "code",
   "execution_count": 15,
   "id": "9a126c55",
   "metadata": {},
   "outputs": [
    {
     "name": "stdout",
     "output_type": "stream",
     "text": [
      "Estimated integral: 1.7173509364957849, Exact integral: 1.718281828459045, Error: 0.0009308919632602386\n"
     ]
    }
   ],
   "source": [
    "W = sum([np.exp(np.random.uniform(i + 0,i + 1/10,size = n_samples)) for i in np.arange(0, 1, 0.1)]) / 10\n",
    "int_stratified = np.sum(W)/n_samples\n",
    "\n",
    "error = exact_int - int_stratified\n",
    "\n",
    "print(f'Estimated integral: {int_stratified}, Exact integral: {exact_int}, Error: {error}')"
   ]
  }
 ],
 "metadata": {
  "kernelspec": {
   "display_name": "base",
   "language": "python",
   "name": "python3"
  },
  "language_info": {
   "codemirror_mode": {
    "name": "ipython",
    "version": 3
   },
   "file_extension": ".py",
   "mimetype": "text/x-python",
   "name": "python",
   "nbconvert_exporter": "python",
   "pygments_lexer": "ipython3",
   "version": "3.12.7"
  }
 },
 "nbformat": 4,
 "nbformat_minor": 5
}
