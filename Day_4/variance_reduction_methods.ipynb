{
 "cells": [
  {
   "cell_type": "code",
   "execution_count": 2,
   "id": "d8098d0f",
   "metadata": {},
   "outputs": [],
   "source": [
    "import numpy as np\n",
    "from scipy.stats import norm"
   ]
  },
  {
   "cell_type": "markdown",
   "id": "894af468",
   "metadata": {},
   "source": [
    "Exercise 1"
   ]
  },
  {
   "cell_type": "code",
   "execution_count": 3,
   "id": "83fd0c8d",
   "metadata": {},
   "outputs": [
    {
     "name": "stdout",
     "output_type": "stream",
     "text": [
      "Estimated value: 1.7444\n",
      "True value: 1.7183\n",
      "95% Confidence Interval: [1.6419, 1.8468]\n"
     ]
    }
   ],
   "source": [
    "import numpy as np\n",
    "from scipy.stats import t\n",
    "\n",
    "# Step 1: Generate data\n",
    "n_sample = 100\n",
    "uniform_random_numbers = np.random.rand(n_sample)\n",
    "samples = np.exp(uniform_random_numbers)\n",
    "\n",
    "# Step 2: Compute mean and sample std\n",
    "sample_mean = np.mean(samples)\n",
    "sample_std = np.std(samples, ddof=1)\n",
    "\n",
    "# Step 3: t-critical value for 95% CI\n",
    "alpha = 0.05\n",
    "t_crit = t.ppf(1 - alpha/2, df=n_sample - 1)\n",
    "\n",
    "# Step 4: Margin of error and confidence interval\n",
    "margin_error = t_crit * sample_std / np.sqrt(n_sample)\n",
    "ci_lower = sample_mean - margin_error\n",
    "ci_upper = sample_mean + margin_error\n",
    "\n",
    "# Output\n",
    "print(f'Estimated value: {sample_mean:.4f}')\n",
    "print(f'True value: {np.e - 1:.4f}')\n",
    "print(f'95% Confidence Interval: [{ci_lower:.4f}, {ci_upper:.4f}]')\n"
   ]
  },
  {
   "cell_type": "markdown",
   "id": "98fd758f",
   "metadata": {},
   "source": [
    "Exercise 2"
   ]
  },
  {
   "cell_type": "code",
   "execution_count": 4,
   "id": "147a8582",
   "metadata": {},
   "outputs": [
    {
     "name": "stdout",
     "output_type": "stream",
     "text": [
      "Estimated value (antithetic): 1.7161\n",
      "True value: 1.7183\n",
      "95% Confidence Interval: [1.7039, 1.7284]\n"
     ]
    }
   ],
   "source": [
    "# Sample size\n",
    "n = 100\n",
    "\n",
    "# Generate uniform samples and apply antithetic method\n",
    "u = np.random.rand(n)\n",
    "y = (np.exp(u) + np.exp(1 - u)) / 2\n",
    "\n",
    "# Estimate mean and std\n",
    "mean_y = np.mean(y)\n",
    "std_y = np.std(y, ddof=1)\n",
    "\n",
    "# Critical value for 95% CI\n",
    "alpha = 0.05\n",
    "t_crit = t.ppf(1 - alpha/2, df=n - 1)\n",
    "\n",
    "# Compute confidence interval\n",
    "margin_error = t_crit * std_y / np.sqrt(n)\n",
    "ci_lower = mean_y - margin_error\n",
    "ci_upper = mean_y + margin_error\n",
    "\n",
    "# Output\n",
    "print(f\"Estimated value (antithetic): {mean_y:.4f}\")\n",
    "print(f\"True value: {np.e - 1:.4f}\")\n",
    "print(f\"95% Confidence Interval: [{ci_lower:.4f}, {ci_upper:.4f}]\")\n"
   ]
  },
  {
   "cell_type": "markdown",
   "id": "79c93eed",
   "metadata": {},
   "source": [
    "Exercise 3"
   ]
  },
  {
   "cell_type": "code",
   "execution_count": 5,
   "id": "821388b3",
   "metadata": {},
   "outputs": [
    {
     "name": "stdout",
     "output_type": "stream",
     "text": [
      "-1.7468981649907784\n",
      "-1.6903090292457295\n",
      "Estimated value (control variates): 1.7120\n",
      "True value: 1.7183\n",
      "95% Confidence Interval: [1.7009, 1.7231]\n"
     ]
    }
   ],
   "source": [
    "# Sample size\n",
    "n = 100\n",
    "\n",
    "# Uniform samples\n",
    "u = np.random.rand(n)\n",
    "\n",
    "# Compute control variate coefficient\n",
    "c = -np.cov(np.exp(u), u)[0, 1] / np.var(u)\n",
    "print(c)\n",
    "\n",
    "theoretical_c = -((3-np.e)/2)/(1/12)\n",
    "print(theoretical_c)\n",
    "\n",
    "# Control variate estimator\n",
    "z = np.exp(u) + c * (u - 0.5)\n",
    "\n",
    "# Sample mean and standard deviation\n",
    "mean_z = np.mean(z)\n",
    "std_z = np.std(z, ddof=1)\n",
    "\n",
    "# Critical value for 95% CI\n",
    "alpha = 0.05\n",
    "t_crit = t.ppf(1 - alpha/2, df=n - 1)\n",
    "\n",
    "# Compute confidence interval\n",
    "margin_error = t_crit * std_z / np.sqrt(n)\n",
    "ci_lower = mean_z - margin_error\n",
    "ci_upper = mean_z + margin_error\n",
    "\n",
    "# Output\n",
    "print(f\"Estimated value (control variates): {mean_z:.4f}\")\n",
    "print(f\"True value: {np.e - 1:.4f}\")\n",
    "print(f\"95% Confidence Interval: [{ci_lower:.4f}, {ci_upper:.4f}]\")\n"
   ]
  },
  {
   "cell_type": "markdown",
   "id": "41809c30",
   "metadata": {},
   "source": [
    "Exercise 4"
   ]
  },
  {
   "cell_type": "code",
   "execution_count": 7,
   "id": "2f4ddfd0",
   "metadata": {},
   "outputs": [
    {
     "name": "stdout",
     "output_type": "stream",
     "text": [
      "Estimated integral (stratified): 1.7215\n",
      "Exact integral: 1.7183\n",
      "95% Confidence Interval for w_mean: [1.7093, 1.7338]\n"
     ]
    }
   ],
   "source": [
    "# Sample size per stratum\n",
    "n_sample = 10\n",
    "strata = 10\n",
    "\n",
    "w = np.zeros(10)\n",
    "for j in range(10):\n",
    "    samples = [np.exp(np.random.uniform(i/strata, (i + 1)/strata)) for i in range(strata)]\n",
    "    w[j] = np.sum(samples) / n_sample\n",
    "\n",
    "w_mean = np.mean(w)\n",
    "w_var = np.var(w, ddof = 1)\n",
    "\n",
    "alpha = 0.05\n",
    "t_crit = t.ppf(1 - alpha/2, df=len(w) - 1)\n",
    "margin_error = t_crit * np.sqrt(w_var) / np.sqrt(len(w))\n",
    "ci_lower = w_mean - margin_error\n",
    "ci_upper = w_mean + margin_error\n",
    "exact_int = np.e - 1\n",
    "\n",
    "print(f\"Estimated integral (stratified): {w_mean:.4f}\")\n",
    "print(f\"Exact integral: {exact_int:.4f}\")\n",
    "print(f\"95% Confidence Interval for w_mean: [{ci_lower:.4f}, {ci_upper:.4f}]\")"
   ]
  },
  {
   "cell_type": "markdown",
   "id": "f9968ce4",
   "metadata": {},
   "source": [
    "Exercise 5"
   ]
  },
  {
   "cell_type": "code",
   "execution_count": null,
   "id": "52fe8db8",
   "metadata": {},
   "outputs": [
    {
     "name": "stdout",
     "output_type": "stream",
     "text": [
      "Estimated value: 12.10931333163849\n",
      "0.5640003334566752\n",
      "0.568381\n",
      "78.73123198328217\n"
     ]
    }
   ],
   "source": [
    "import numpy as np\n",
    "import math\n",
    "from scipy.stats import t\n",
    "import matplotlib.pyplot as plt\n",
    "\n",
    "# Parameters \n",
    "m = 10\n",
    "mst = 8\n",
    "mtbc = 1\n",
    "\n",
    "n_sim = 10\n",
    "block_fractions = np.zeros(n_sim)\n",
    "block_Z = np.zeros(n_sim)\n",
    "mean_arr_times = np.zeros(n_sim)\n",
    "\n",
    "for j in range(n_sim):\n",
    "    n_custom = 10000\n",
    "    n = 0\n",
    "\n",
    "    interval_between_arrivals = np.random.exponential(scale = mtbc, size = n_custom)\n",
    "    arrival_times = np.cumsum(interval_between_arrivals)\n",
    "    mean_arr_times[j] = np.mean(interval_between_arrivals)\n",
    "\n",
    "    service_in_use_times = np.zeros(m)\n",
    "\n",
    "    n_cust_blocked = 0\n",
    "\n",
    "\n",
    "    while(n < n_custom):\n",
    "\n",
    "        available_services = np.where(arrival_times[n] >= service_in_use_times)[0]\n",
    "        if (len(available_services)>0):\n",
    "            i = available_services[0]\n",
    "            service_time = np.random.exponential(scale=mst)\n",
    "            service_in_use_times[i] = arrival_times[n] + service_time\n",
    "        else:\n",
    "            n_cust_blocked += 1\n",
    "        n += 1\n",
    "\n",
    "    fraction = n_cust_blocked / n_custom  * 100\n",
    "    #print(f'fraction of blocks: {fraction}%')\n",
    "    block_fractions[j] = fraction\n",
    "\n",
    "# Exact solution\n",
    "A = mst * mtbc\n",
    "m_vect = np.arange(0,m+1)\n",
    "denominator = np.sum(A**m_vect / [math.factorial(k) for k in m_vect])\n",
    "B = A**m/math.factorial(m) / denominator\n",
    "\n",
    "print(f'exact solution: {B*100}%')\n",
    "\n",
    "# Confidence interval\n",
    "\n",
    "theta_hat = np.sum(block_fractions)/n_sim\n",
    "#print(theta_hat)\n",
    "#sigma_2 = (np.sum(block_fractions ** 2) - n_sim * theta_hat**2) / (n_sim -1)\n",
    "# Compute theta_hat, the mean of block fractions\n",
    "theta_hat = np.mean(block_fractions)\n",
    "\n",
    "# Unbiased sample variance estimate of the estimator\n",
    "sigma_2 = np.var(block_fractions, ddof=1)\n",
    "\n",
    "dof = n_sim - 1\n",
    "alpha = 0.05\n",
    "t_quant = t.ppf(1 - alpha/2, dof)\n",
    "\n",
    "# Standard error uses number of replications n_sim\n",
    "CI = [\n",
    "    theta_hat - np.sqrt(sigma_2) / np.sqrt(n_sim) * t_quant,\n",
    "    theta_hat + np.sqrt(sigma_2) / np.sqrt(n_sim) * t_quant\n",
    "]\n",
    "\n",
    "print(f'Confidence interval for standard method: {CI}')\n",
    "\n",
    "# Control variate calculations\n",
    "c = - np.cov(block_fractions, mean_arr_times, ddof=1)[0, 1] / np.var(mean_arr_times, ddof=1)\n",
    "Z = block_fractions + c * (mean_arr_times - mtbc)\n",
    "\n",
    "Z_cv = np.mean(Z)\n",
    "Z_var = np.var(Z, ddof=1)\n",
    "\n",
    "# Confidence interval for control variate\n",
    "CI_cv = [\n",
    "    Z_cv - np.sqrt(Z_var) / np.sqrt(n_sim) * t_quant,\n",
    "    Z_cv + np.sqrt(Z_var) / np.sqrt(n_sim) * t_quant\n",
    "]\n",
    "\n",
    "print(f'Confidence interval for control variate: {CI_cv}')\n",
    "print(f'Original variance: {sigma_2}, Control variate variance: {Z_var}')\n",
    "print(f\"Amplitude of CI:\\n Without CV: {CI[1] - CI[0]}\\n With CV: {CI_cv[1] - CI_cv[0]}\")"
   ]
  },
  {
   "cell_type": "markdown",
   "id": "ea6d00bd",
   "metadata": {},
   "source": [
    "Exercise 6"
   ]
  },
  {
   "cell_type": "code",
   "execution_count": null,
   "id": "4fb1aa6f",
   "metadata": {},
   "outputs": [
    {
     "name": "stdout",
     "output_type": "stream",
     "text": [
      "Confidence interval: ('0.03650097158164387', '0.03749902841835633')\n",
      "Widht CI: 0.0009980568367124604\n",
      "11.985000000000001\n",
      "12.021999999999998\n"
     ]
    }
   ],
   "source": [
    "import numpy as np\n",
    "from scipy.stats import t\n",
    "\n",
    "# Parameters\n",
    "m = 10\n",
    "mst = 8\n",
    "mtbc = 1\n",
    "n_sim = 100\n",
    "n_custom = 10000\n",
    "\n",
    "p1 = 0.8\n",
    "p2 = 0.2\n",
    "lam1 = 0.8333\n",
    "lam2 = 5.0\n",
    "alpha = 0.05\n",
    "\n",
    "# --- WITHOUT COMMON RANDOM NUMBERS ---\n",
    "block_fractions_exp = np.zeros(n_sim)\n",
    "block_fractions_hyp = np.zeros(n_sim)\n",
    "\n",
    "# First simulate exponential system\n",
    "for j in range(n_sim):\n",
    "    uniform_exp = np.random.rand(n_custom)\n",
    "    interval_exp = -np.log(uniform_exp) / mtbc\n",
    "    arrival_times_exp = np.cumsum(interval_exp)\n",
    "    service_in_use_times = np.zeros(m)\n",
    "    n_cust_blocked = 0\n",
    "    for n in range(n_custom):\n",
    "        available = np.where(arrival_times_exp[n] >= service_in_use_times)[0]\n",
    "        if len(available) > 0:\n",
    "            i = available[0]\n",
    "            service_time = np.random.exponential(scale=mst)\n",
    "            service_in_use_times[i] = arrival_times_exp[n] + service_time\n",
    "        else:\n",
    "            n_cust_blocked += 1\n",
    "    block_fractions_exp[j] = n_cust_blocked / n_custom * 100\n",
    "\n",
    "# Then simulate hyperexponential system\n",
    "for j in range(n_sim):\n",
    "    uniform_hyp = np.random.rand(n_custom)\n",
    "    exps = np.random.choice([0, 1], p=[p1, p2], size=n_custom)\n",
    "    interval_hyp = np.zeros(n_custom)\n",
    "    interval_hyp[exps == 0] = -np.log(uniform_hyp[exps == 0]) / lam1\n",
    "    interval_hyp[exps == 1] = -np.log(uniform_hyp[exps == 1]) / lam2\n",
    "    arrival_times_hyp = np.cumsum(interval_hyp)\n",
    "    service_in_use_times = np.zeros(m)\n",
    "    n_cust_blocked = 0\n",
    "    for n in range(n_custom):\n",
    "        available = np.where(arrival_times_hyp[n] >= service_in_use_times)[0]\n",
    "        if len(available) > 0:\n",
    "            i = available[0]\n",
    "            service_time = np.random.exponential(scale=mst)\n",
    "            service_in_use_times[i] = arrival_times_hyp[n] + service_time\n",
    "        else:\n",
    "            n_cust_blocked += 1\n",
    "    block_fractions_hyp[j] = n_cust_blocked / n_custom * 100\n",
    "\n",
    "# Compute statistics and CI for NO CRN\n",
    "diff_no_crn = block_fractions_exp - block_fractions_hyp\n",
    "theta_hat_no_crn = np.mean(diff_no_crn)\n",
    "sigma2_no_crn = np.var(diff_no_crn, ddof=1)\n",
    "dof = n_sim - 1\n",
    "t_quant = t.ppf(1 - alpha/2, dof)\n",
    "CI_no_crn = [\n",
    "    theta_hat_no_crn - np.sqrt(sigma2_no_crn) / np.sqrt(n_sim) * t_quant,\n",
    "    theta_hat_no_crn + np.sqrt(sigma2_no_crn) / np.sqrt(n_sim) * t_quant\n",
    "]\n",
    "print('NO CRN:')\n",
    "print('Mean difference:', theta_hat_no_crn)\n",
    "print('Variance of estimator:', sigma2_no_crn)\n",
    "print('Confidence interval:', CI_no_crn)\n",
    "print(f'Width CI: {CI_no_crn[1] - CI_no_crn[0]:.4f}')\n",
    "\n",
    "# --- WITH COMMON RANDOM NUMBERS ---\n",
    "block_fractions_exp = np.zeros(n_sim)\n",
    "block_fractions_hyp = np.zeros(n_sim)\n",
    "\n",
    "for j in range(n_sim):\n",
    "    uniform = np.random.rand(n_custom)\n",
    "    exps = np.random.choice([0, 1], p=[p1, p2], size=n_custom)\n",
    "    # Exponential arrivals\n",
    "    interval_exp = -np.log(uniform) / mtbc\n",
    "    arrival_times_exp = np.cumsum(interval_exp)\n",
    "    # Hyperexponential arrivals\n",
    "    interval_hyp = np.zeros(n_custom)\n",
    "    interval_hyp[exps == 0] = -np.log(uniform[exps == 0]) / lam1\n",
    "    interval_hyp[exps == 1] = -np.log(uniform[exps == 1]) / lam2\n",
    "    arrival_times_hyp = np.cumsum(interval_hyp)\n",
    "\n",
    "    # Simulate exponential system\n",
    "    service_in_use_times = np.zeros(m)\n",
    "    n_cust_blocked = 0\n",
    "    for n in range(n_custom):\n",
    "        available = np.where(arrival_times_exp[n] >= service_in_use_times)[0]\n",
    "        if len(available) > 0:\n",
    "            i = available[0]\n",
    "            service_time = np.random.exponential(scale=mst)\n",
    "            service_in_use_times[i] = arrival_times_exp[n] + service_time\n",
    "        else:\n",
    "            n_cust_blocked += 1\n",
    "    block_fractions_exp[j] = n_cust_blocked / n_custom * 100\n",
    "\n",
    "    # Simulate hyperexponential system\n",
    "    service_in_use_times = np.zeros(m)\n",
    "    n_cust_blocked = 0\n",
    "    for n in range(n_custom):\n",
    "        available = np.where(arrival_times_hyp[n] >= service_in_use_times)[0]\n",
    "        if len(available) > 0:\n",
    "            i = available[0]\n",
    "            service_time = np.random.exponential(scale=mst)\n",
    "            service_in_use_times[i] = arrival_times_hyp[n] + service_time\n",
    "        else:\n",
    "            n_cust_blocked += 1\n",
    "    block_fractions_hyp[j] = n_cust_blocked / n_custom * 100\n",
    "\n",
    "# Compute statistics and CI for CRN\n",
    "diff_crn = block_fractions_exp - block_fractions_hyp\n",
    "theta_hat_crn = np.mean(diff_crn)\n",
    "sigma2_crn = np.var(diff_crn, ddof=1)\n",
    "CI_crn = [\n",
    "    theta_hat_crn - np.sqrt(sigma2_crn) / np.sqrt(n_sim) * t_quant,\n",
    "    theta_hat_crn + np.sqrt(sigma2_crn) / np.sqrt(n_sim) * t_quant\n",
    "]\n",
    "print('\\nWITH CRN:')\n",
    "print('Mean difference:', theta_hat_crn)\n",
    "print('Variance of estimator:', sigma2_crn)\n",
    "print('Confidence interval:', CI_crn)\n",
    "print(f'Width CI: {CI_crn[1] - CI_crn[0]:.4f}')\n"
   ]
  },
  {
   "cell_type": "markdown",
   "id": "bf089e82",
   "metadata": {},
   "source": [
    "Exercise 7"
   ]
  },
  {
   "cell_type": "code",
   "execution_count": null,
   "id": "819bb104",
   "metadata": {},
   "outputs": [
    {
     "name": "stdout",
     "output_type": "stream",
     "text": [
      "0.171\n",
      "0.1895596277722878\n",
      "0.18406012534675953\n"
     ]
    }
   ],
   "source": [
    "n_sample = 1000\n",
    "\n",
    "z = np.random.randn(n_sample)\n",
    "\n",
    "a = 4\n",
    "print(\"a = \", a)\n",
    "\n",
    "prob = np.sum(z > a) / n_sample\n",
    "print(\"Crude estimator: \", prob)\n",
    "crude_var = np.var(z>a, ddof=1)  # unbiased sample variance\n",
    "print(\"Variance of crude estimator:\", crude_var)\n",
    "\n",
    "# Importance sampling: sample from N(a, sigma_2)\n",
    "z_imp = np.random.normal(loc=a, scale=np.sqrt(sigma_2), size=n_sample)\n",
    "weights = norm.pdf(z_imp) / norm.pdf(z_imp, loc=a, scale=np.sqrt(sigma_2))\n",
    "prob_imp = np.mean((z_imp > a) * weights)\n",
    "print(\"IS Estimator\", prob_imp)\n",
    "is_var = np.var((z_imp > a) * weights, ddof = 1)\n",
    "print(\"Variance of IS estimator:\", is_var)\n",
    "\n",
    "print(\"Theoretical probability: \",(1 - norm.cdf(a)))"
   ]
  },
  {
   "cell_type": "markdown",
   "id": "07347abd",
   "metadata": {},
   "source": [
    "Exercise 8"
   ]
  },
  {
   "cell_type": "code",
   "execution_count": 23,
   "id": "5e5192d5",
   "metadata": {},
   "outputs": [
    {
     "name": "stdout",
     "output_type": "stream",
     "text": [
      "Estimated integral: 1.5794342405423873, Exact integral: 1.718281828459045, Error: 0.05469621517537293\n",
      "95% Confidence interval: [1.2608434350431028, 1.8980250460416719]\n",
      "Variance of the estimator (IS): 2.6422280203004376\n"
     ]
    }
   ],
   "source": [
    "from scipy.stats import norm\n",
    "\n",
    "n_samples = 100\n",
    "lam = 1.3\n",
    "x = np.random.exponential(scale=1/lam,size = n_samples)\n",
    "alpha = 0.05\n",
    "g = lam * np.exp(-lam*x)\n",
    "sample = (x<=1) * np.exp(x)/g\n",
    "mean = np.mean(sample)\n",
    "std = np.std(sample, ddof=1)\n",
    "z = norm.ppf(1 - alpha/2)\n",
    "ci_lower = mean - z * std / np.sqrt(n_samples)\n",
    "ci_upper = mean + z * std / np.sqrt(n_samples)\n",
    "\n",
    "int_is = mean\n",
    "error = exact_int - int\n",
    "\n",
    "print(f'Estimated integral: {int_is}, Exact integral: {exact_int}, Error: {np.abs(error)}')\n",
    "print(f'95% Confidence interval: [{ci_lower}, {ci_upper}]')\n",
    "var_estimator = np.var(sample, ddof=1)\n",
    "print(\"Variance of the estimator (IS):\", var_estimator)\n"
   ]
  },
  {
   "cell_type": "code",
   "execution_count": 13,
   "id": "4385080b",
   "metadata": {},
   "outputs": [
    {
     "data": {
      "image/png": "[encoded data removed]",
      "text/plain": [
       "<Figure size 640x480 with 1 Axes>"
      ]
     },
     "metadata": {},
     "output_type": "display_data"
    }
   ],
   "source": [
    "import numpy as np\n",
    "import matplotlib.pyplot as plt\n",
    "from scipy.optimize import minimize_scalar\n",
    "\n",
    "lambdas = np.linspace(0.1, 5, 300)\n",
    "f = (np.exp(lambdas + 2) - 1) / (lambdas * (lambdas + 2)) - (np.e - 1)**2\n",
    "\n",
    "plt.plot(lambdas, f)\n",
    "plt.xlabel(\"λ\")\n",
    "plt.ylabel(\"Theoretical variance\")\n",
    "plt.title(\"Variance IS against λ\")\n",
    "plt.grid(True)\n",
    "plt.show()"
   ]
  },
  {
   "cell_type": "markdown",
   "id": "2834916b",
   "metadata": {},
   "source": [
    "Exercise 9"
   ]
  },
  {
   "cell_type": "code",
   "execution_count": 14,
   "id": "1783a64e",
   "metadata": {},
   "outputs": [
    {
     "name": "stdout",
     "output_type": "stream",
     "text": [
      "1.605939555671388\n"
     ]
    }
   ],
   "source": [
    "from scipy.stats import pareto\n",
    "\n",
    "import matplotlib.pyplot as plt\n",
    "\n",
    "# Parameters for the Pareto distribution\n",
    "b = 2.62  # shape parameter\n",
    "size = 1000\n",
    "\n",
    "# Generate Pareto samples\n",
    "pareto_samples = pareto.rvs(b, size=size)\n",
    "\n",
    "mean_par = np.mean(pareto_samples)\n",
    "print(mean_par)\n",
    "\n"
   ]
  }
 ],
 "metadata": {
  "kernelspec": {
   "display_name": "base",
   "language": "python",
   "name": "python3"
  },
  "language_info": {
   "codemirror_mode": {
    "name": "ipython",
    "version": 3
   },
   "file_extension": ".py",
   "mimetype": "text/x-python",
   "name": "python",
   "nbconvert_exporter": "python",
   "pygments_lexer": "ipython3",
   "version": "3.12.7"
  }
 },
 "nbformat": 4,
 "nbformat_minor": 5
}
