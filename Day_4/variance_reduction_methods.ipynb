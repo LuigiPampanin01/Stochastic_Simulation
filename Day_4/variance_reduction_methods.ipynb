{
 "cells": [
  {
   "cell_type": "code",
   "execution_count": 12,
   "id": "d8098d0f",
   "metadata": {},
   "outputs": [],
   "source": [
    "import numpy as np"
   ]
  },
  {
   "cell_type": "code",
   "execution_count": null,
   "id": "83fd0c8d",
   "metadata": {},
   "outputs": [
    {
     "name": "stdout",
     "output_type": "stream",
     "text": [
      "Estimated value: 1.7077228299156868\n",
      "True value: 1.718281828459045\n"
     ]
    }
   ],
   "source": [
    "n_sample = 100\n",
    "\n",
    "uniform_random_numbers = np.random.rand(n_sample)\n",
    "monte_carlo_eval = np.mean(np.exp(uniform_random_numbers))\n",
    "\n",
    "print(f'Estimated value: {monte_carlo_eval}')\n",
    "print(f'True value: {np.e - 1}')"
   ]
  },
  {
   "cell_type": "code",
   "execution_count": 14,
   "id": "147a8582",
   "metadata": {},
   "outputs": [
    {
     "name": "stdout",
     "output_type": "stream",
     "text": [
      "Estimated value: 1.7261344012310251\n",
      "True value: 1.718281828459045\n"
     ]
    }
   ],
   "source": [
    "y  = (np.exp(uniform_random_numbers) + np.exp(1 - uniform_random_numbers)) / 2\n",
    "\n",
    "print(f'Estimated value: {np.mean(y)}')\n",
    "print(f'True value: {np.e - 1}')"
   ]
  },
  {
   "cell_type": "code",
   "execution_count": null,
   "id": "821388b3",
   "metadata": {},
   "outputs": [
    {
     "name": "stdout",
     "output_type": "stream",
     "text": [
      "-1.665453652594589\n",
      "Estimated value: 1.724709003975559\n",
      "True value: 1.718281828459045\n"
     ]
    }
   ],
   "source": [
    "c = - np.cov(np.exp(uniform_random_numbers), uniform_random_numbers)[0, 1] / np.var(uniform_random_numbers)\n",
    "z = np.exp(uniform_random_numbers) + c * (uniform_random_numbers - 0.5)\n",
    "\n",
    "print(f'Estimated value: {np.mean(z)}')\n",
    "print(f'True value: {np.e - 1}')"
   ]
  },
  {
   "cell_type": "code",
   "execution_count": 28,
   "id": "726e48f1",
   "metadata": {},
   "outputs": [
    {
     "name": "stdout",
     "output_type": "stream",
     "text": [
      "Estimated integral: 1.7172014450866533, Exact integral: 1.718281828459045, Error: 0.0010803833723918022\n"
     ]
    }
   ],
   "source": [
    "W = sum([np.exp(np.random.uniform(i + 0,i + 1/10,size = n_sample)) for i in np.arange(0, 1, 0.1)]) / 10\n",
    "int_stratified = np.sum(W)/n_sample\n",
    "\n",
    "exact_int = np.e - 1\n",
    "error = exact_int - int_stratified\n",
    "\n",
    "print(f'Estimated integral: {int_stratified}, Exact integral: {exact_int}, Error: {error}')"
   ]
  },
  {
   "cell_type": "code",
   "execution_count": null,
   "id": "52fe8db8",
   "metadata": {},
   "outputs": [],
   "source": []
  }
 ],
 "metadata": {
  "kernelspec": {
   "display_name": "stochastic_simulation_env",
   "language": "python",
   "name": "python3"
  },
  "language_info": {
   "codemirror_mode": {
    "name": "ipython",
    "version": 3
   },
   "file_extension": ".py",
   "mimetype": "text/x-python",
   "name": "python",
   "nbconvert_exporter": "python",
   "pygments_lexer": "ipython3",
   "version": "3.11.8"
  }
 },
 "nbformat": 4,
 "nbformat_minor": 5
}
