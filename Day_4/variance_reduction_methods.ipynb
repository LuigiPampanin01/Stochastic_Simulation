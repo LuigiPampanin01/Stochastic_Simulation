{
 "cells": [
  {
   "cell_type": "code",
   "execution_count": 1,
   "id": "d8098d0f",
   "metadata": {},
   "outputs": [],
   "source": [
    "import numpy as np\n",
    "from scipy.stats import norm"
   ]
  },
  {
   "cell_type": "markdown",
   "id": "894af468",
   "metadata": {},
   "source": [
    "Exercise 1"
   ]
  },
  {
   "cell_type": "code",
   "execution_count": 2,
   "id": "83fd0c8d",
   "metadata": {},
   "outputs": [
    {
     "name": "stdout",
     "output_type": "stream",
     "text": [
      "Estimated value: 1.7466163592860164\n",
      "True value: 1.718281828459045\n"
     ]
    }
   ],
   "source": [
    "n_sample = 100\n",
    "\n",
    "uniform_random_numbers = np.random.rand(n_sample)\n",
    "monte_carlo_eval = np.mean(np.exp(uniform_random_numbers))\n",
    "\n",
    "print(f'Estimated value: {monte_carlo_eval}')\n",
    "print(f'True value: {np.e - 1}')"
   ]
  },
  {
   "cell_type": "markdown",
   "id": "98fd758f",
   "metadata": {},
   "source": [
    "Exercise 2"
   ]
  },
  {
   "cell_type": "code",
   "execution_count": 3,
   "id": "147a8582",
   "metadata": {},
   "outputs": [
    {
     "name": "stdout",
     "output_type": "stream",
     "text": [
      "Estimated value: 1.7043273679363953\n",
      "True value: 1.718281828459045\n"
     ]
    }
   ],
   "source": [
    "y  = (np.exp(uniform_random_numbers) + np.exp(1 - uniform_random_numbers)) / 2\n",
    "\n",
    "print(f'Estimated value: {np.mean(y)}')\n",
    "print(f'True value: {np.e - 1}')"
   ]
  },
  {
   "cell_type": "markdown",
   "id": "79c93eed",
   "metadata": {},
   "source": [
    "Exercise 3"
   ]
  },
  {
   "cell_type": "code",
   "execution_count": 4,
   "id": "821388b3",
   "metadata": {},
   "outputs": [
    {
     "name": "stdout",
     "output_type": "stream",
     "text": [
      "Estimated value: 1.7031814298587784\n",
      "True value: 1.718281828459045\n"
     ]
    }
   ],
   "source": [
    "c = - np.cov(np.exp(uniform_random_numbers), uniform_random_numbers)[0, 1] / np.var(uniform_random_numbers)\n",
    "z = np.exp(uniform_random_numbers) + c * (uniform_random_numbers - 0.5)\n",
    "\n",
    "print(f'Estimated value: {np.mean(z)}')\n",
    "print(f'True value: {np.e - 1}')"
   ]
  },
  {
   "cell_type": "markdown",
   "id": "41809c30",
   "metadata": {},
   "source": [
    "Exercise 4"
   ]
  },
  {
   "cell_type": "code",
   "execution_count": 5,
   "id": "726e48f1",
   "metadata": {},
   "outputs": [
    {
     "name": "stdout",
     "output_type": "stream",
     "text": [
      "Estimated integral: 1.7186047427214535, Exact integral: 1.718281828459045, Error: -0.0003229142624083803\n"
     ]
    }
   ],
   "source": [
    "W = sum([np.exp(np.random.uniform(i + 0,i + 1/10,size = n_sample)) for i in np.arange(0, 1, 0.1)]) / 10\n",
    "int_stratified = np.sum(W)/n_sample\n",
    "\n",
    "exact_int = np.e - 1\n",
    "error = exact_int - int_stratified\n",
    "\n",
    "print(f'Estimated integral: {int_stratified}, Exact integral: {exact_int}, Error: {error}')"
   ]
  },
  {
   "cell_type": "markdown",
   "id": "f9968ce4",
   "metadata": {},
   "source": [
    "Exercise 5"
   ]
  },
  {
   "cell_type": "code",
   "execution_count": 6,
   "id": "52fe8db8",
   "metadata": {},
   "outputs": [
    {
     "name": "stdout",
     "output_type": "stream",
     "text": [
      "Estimated value: 12.550409253646208\n",
      "0.22754867211088864\n",
      "0.24333999999999983\n",
      "220.64032701395922\n"
     ]
    }
   ],
   "source": [
    "# Parameters \n",
    "m = 10\n",
    "mst = 8\n",
    "mtbc = 1\n",
    "\n",
    "n_sim = 10\n",
    "block_fractions = np.zeros(n_sim)\n",
    "\n",
    "for j in range(n_sim):\n",
    "    n_custom = 10000\n",
    "    n = 0\n",
    "    \n",
    "    interval_between_arrivals = np.random.exponential(scale = mtbc, size = n_custom)\n",
    "    arrival_times = np.cumsum(interval_between_arrivals)\n",
    "\n",
    "    service_in_use_times = np.zeros(m)\n",
    "\n",
    "    n_cust_blocked = 0\n",
    "\n",
    "\n",
    "    while(n < n_custom):\n",
    "\n",
    "        available_services = np.where(arrival_times[n] >= service_in_use_times)[0]\n",
    "        if (len(available_services)>0):\n",
    "            i = available_services[0]\n",
    "            service_time = np.random.exponential(scale=mst)\n",
    "            service_in_use_times[i] = arrival_times[n] + service_time\n",
    "        else:\n",
    "            n_cust_blocked += 1\n",
    "        n += 1\n",
    "\n",
    "    fraction = n_cust_blocked / n_custom  * 100\n",
    "    #print(f'fraction of blocks: {fraction}%')\n",
    "    block_fractions[j] = fraction\n",
    "\n",
    "n_sample = n_sim\n",
    "\n",
    "theta_hat = np.sum(block_fractions)/n_sim\n",
    "\n",
    "\n",
    "uniform_random_numbers = np.random.exponential(theta_hat, n_sample)\n",
    "\n",
    "c = - np.cov(block_fractions, uniform_random_numbers)[0, 1] / np.var(uniform_random_numbers)\n",
    "z = block_fractions + c * (uniform_random_numbers)\n",
    "\n",
    "print(f'Estimated value: {np.mean(z)}')\n",
    "print(np.var(z))\n",
    "print(np.var(block_fractions))\n",
    "\n",
    "print(np.cov(block_fractions, uniform_random_numbers)[1,1]) # high correlation"
   ]
  },
  {
   "cell_type": "markdown",
   "id": "ea6d00bd",
   "metadata": {},
   "source": [
    "Exercise 6"
   ]
  },
  {
   "cell_type": "code",
   "execution_count": 7,
   "id": "4fb1aa6f",
   "metadata": {},
   "outputs": [
    {
     "name": "stdout",
     "output_type": "stream",
     "text": [
      "Confidence interval: ('-0.003522461406421118', '-0.0024775385935791095')\n",
      "Widht CI: 0.0010449228128420083\n",
      "12.112\n",
      "12.109\n"
     ]
    }
   ],
   "source": [
    "from scipy.stats import t\n",
    "\n",
    "# Parameters \n",
    "m = 10\n",
    "mst = 8\n",
    "mtbc = 1\n",
    "\n",
    "n_sim = 10\n",
    "block_fractions_exp = np.zeros(n_sim)\n",
    "block_fractions_hyp = np.zeros(n_sim)\n",
    "\n",
    "p1 = 0.8\n",
    "p2 = 0.2\n",
    "lam1 = 0.8333\n",
    "lam2 = 5.0\n",
    "\n",
    "\n",
    "for j in range(n_sim):\n",
    "    n_custom = 10000\n",
    "    n = 0\n",
    "\n",
    "    uniform_random_numbers = np.random.rand(n_custom)\n",
    "    \n",
    "    interval_between_arrivals_exponential = - np.log(uniform_random_numbers) / mtbc\n",
    "\n",
    "    interval_between_arrivals_hyperexponential = np.zeros(n_custom)\n",
    "    exps = np.random.choice([0,1], p = [p1,p2], size = n_custom)\n",
    "    interval_between_arrivals_hyperexponential[exps == 0] = - np.log(uniform_random_numbers[exps == 0]) / lam1\n",
    "    interval_between_arrivals_hyperexponential[exps == 1] = - np.log(uniform_random_numbers[exps == 1]) / lam2\n",
    "\n",
    "    arrival_times_exponential = np.cumsum(interval_between_arrivals_exponential)\n",
    "    arrival_times_hyperexponential = np.cumsum(interval_between_arrivals_exponential)\n",
    "\n",
    "\n",
    "    service_in_use_times = np.zeros(m)\n",
    "\n",
    "    n_cust_blocked = 0\n",
    "\n",
    "\n",
    "    while(n < n_custom):\n",
    "\n",
    "        available_services = np.where(arrival_times_exponential[n] >= service_in_use_times)[0]\n",
    "        if (len(available_services)>0):\n",
    "            i = available_services[0]\n",
    "            service_time = np.random.exponential(scale=mst)\n",
    "            service_in_use_times[i] = arrival_times_exponential[n] + service_time\n",
    "        else:\n",
    "            n_cust_blocked += 1\n",
    "        n += 1\n",
    "\n",
    "    fraction = n_cust_blocked / n_custom  * 100\n",
    "    #print(f'fraction of blocks: {fraction}%')\n",
    "    block_fractions_exp[j] = fraction\n",
    "\n",
    "    service_in_use_times = np.zeros(m)\n",
    "\n",
    "    n_cust_blocked = 0\n",
    "\n",
    "    n = 0\n",
    "\n",
    "    while(n < n_custom):\n",
    "\n",
    "        available_services = np.where(arrival_times_hyperexponential[n] >= service_in_use_times)[0]\n",
    "        if (len(available_services)>0):\n",
    "            i = available_services[0]\n",
    "            service_time = np.random.exponential(scale=mst)\n",
    "            service_in_use_times[i] = arrival_times_hyperexponential[n] + service_time\n",
    "        else:\n",
    "            n_cust_blocked += 1\n",
    "        n += 1\n",
    "\n",
    "    fraction = n_cust_blocked / n_custom  * 100\n",
    "    #print(f'fraction of blocks: {fraction}%')\n",
    "    block_fractions_hyp[j] = fraction\n",
    "\n",
    "n_sample = n_sim\n",
    "\n",
    "\n",
    "diff = block_fractions_exp - block_fractions_hyp\n",
    "\n",
    "theta_hat = np.sum(diff)/n_sim\n",
    "#print(theta_hat)\n",
    "sigma_2 = (np.sum(diff ** 2) - n_sim * theta_hat**2) / (n_sim -1)\n",
    "\n",
    "dof = n_sim -1\n",
    "alpha = 0.95\n",
    "t_quant = t.ppf(1-alpha/2,dof)\n",
    "CI = [theta_hat - np.sqrt(sigma_2)/np.sqrt(n)*t_quant, theta_hat + np.sqrt(sigma_2)/np.sqrt(n)*t_quant]\n",
    "\n",
    "print(f'Confidence interval: {str(CI[0]), str(CI[1])}')\n",
    "print(f'Widht CI: {np.abs(CI[1] - CI[0])}')\n",
    "\n",
    "print(np.mean(block_fractions_hyp))\n",
    "print(np.mean(block_fractions_exp))\n"
   ]
  },
  {
   "cell_type": "code",
   "execution_count": 8,
   "id": "db59b530",
   "metadata": {},
   "outputs": [
    {
     "name": "stdout",
     "output_type": "stream",
     "text": [
      "Confidence interval: ('0.09451174941530516', '0.09548825058469398')\n",
      "Widht CI: 0.000976501169388827\n"
     ]
    }
   ],
   "source": [
    "from scipy.stats import t\n",
    "\n",
    "# Parameters \n",
    "m = 10\n",
    "mst = 8\n",
    "mtbc = 1\n",
    "\n",
    "n_sim = 10\n",
    "block_fractions_exp = np.zeros(n_sim)\n",
    "block_fractions_hyp = np.zeros(n_sim)\n",
    "\n",
    "p1 = 0.8\n",
    "p2 = 0.2\n",
    "lam1 = 0.8333\n",
    "lam2 = 5.0\n",
    "\n",
    "\n",
    "for j in range(n_sim):\n",
    "    n_custom = 10000\n",
    "    n = 0\n",
    "\n",
    "    uniform_random_numbers_exp = np.random.rand(n_custom)\n",
    "    uniform_random_numbers_hyp = np.random.rand(n_custom)\n",
    "\n",
    "    \n",
    "    interval_between_arrivals_exponential = - np.log(uniform_random_numbers_exp) / mtbc\n",
    "\n",
    "    interval_between_arrivals_hyperexponential = np.zeros(n_custom)\n",
    "    exps = np.random.choice([0,1], p = [p1,p2], size = n_custom)\n",
    "    interval_between_arrivals_hyperexponential[exps == 0] = - np.log(uniform_random_numbers_hyp[exps == 0]) / lam1\n",
    "    interval_between_arrivals_hyperexponential[exps == 1] = - np.log(uniform_random_numbers_hyp[exps == 1]) / lam2\n",
    "\n",
    "    arrival_times_exponential = np.cumsum(interval_between_arrivals_exponential)\n",
    "    arrival_times_hyperexponential = np.cumsum(interval_between_arrivals_exponential)\n",
    "\n",
    "\n",
    "    service_in_use_times = np.zeros(m)\n",
    "\n",
    "    n_cust_blocked = 0\n",
    "\n",
    "\n",
    "    while(n < n_custom):\n",
    "\n",
    "        available_services = np.where(arrival_times_exponential[n] >= service_in_use_times)[0]\n",
    "        if (len(available_services)>0):\n",
    "            i = available_services[0]\n",
    "            service_time = np.random.exponential(scale=mst)\n",
    "            service_in_use_times[i] = arrival_times_exponential[n] + service_time\n",
    "        else:\n",
    "            n_cust_blocked += 1\n",
    "        n += 1\n",
    "\n",
    "    fraction = n_cust_blocked / n_custom  * 100\n",
    "    #print(f'fraction of blocks: {fraction}%')\n",
    "    block_fractions_exp[j] = fraction\n",
    "\n",
    "    service_in_use_times = np.zeros(m)\n",
    "\n",
    "    n_cust_blocked = 0\n",
    "\n",
    "    n = 0\n",
    "\n",
    "    while(n < n_custom):\n",
    "\n",
    "        available_services = np.where(arrival_times_hyperexponential[n] >= service_in_use_times)[0]\n",
    "        if (len(available_services)>0):\n",
    "            i = available_services[0]\n",
    "            service_time = np.random.exponential(scale=mst)\n",
    "            service_in_use_times[i] = arrival_times_hyperexponential[n] + service_time\n",
    "        else:\n",
    "            n_cust_blocked += 1\n",
    "        n += 1\n",
    "\n",
    "    fraction = n_cust_blocked / n_custom  * 100\n",
    "    #print(f'fraction of blocks: {fraction}%')\n",
    "    block_fractions_hyp[j] = fraction\n",
    "\n",
    "n_sample = n_sim\n",
    "\n",
    "\n",
    "diff = block_fractions_exp - block_fractions_hyp\n",
    "\n",
    "theta_hat = np.sum(diff)/n_sim\n",
    "#print(theta_hat)\n",
    "sigma_2 = (np.sum(diff ** 2) - n_sim * theta_hat**2) / (n_sim -1)\n",
    "\n",
    "dof = n_sim -1\n",
    "alpha = 0.95\n",
    "t_quant = t.ppf(1-alpha/2,dof)\n",
    "CI = [theta_hat - np.sqrt(sigma_2)/np.sqrt(n)*t_quant, theta_hat + np.sqrt(sigma_2)/np.sqrt(n)*t_quant]\n",
    "\n",
    "print(f'Confidence interval: {str(CI[0]), str(CI[1])}')\n",
    "\n",
    "print(f'Widht CI: {np.abs(CI[1] - CI[0])}')\n",
    "\n"
   ]
  },
  {
   "cell_type": "markdown",
   "id": "bf089e82",
   "metadata": {},
   "source": [
    "Exercise 7"
   ]
  },
  {
   "cell_type": "code",
   "execution_count": 9,
   "id": "819bb104",
   "metadata": {},
   "outputs": [
    {
     "name": "stdout",
     "output_type": "stream",
     "text": [
      "0.179\n",
      "0.1828400770836879\n",
      "0.18406012534675953\n"
     ]
    }
   ],
   "source": [
    "n_sample = 1000\n",
    "\n",
    "z = np.random.randn(n_sample)\n",
    "\n",
    "a = 0.9\n",
    "\n",
    "prob = np.sum(z > a) / n_sample\n",
    "print(prob)\n",
    "\n",
    "# Importance sampling: sample from N(a, sigma_2)\n",
    "z_imp = np.random.normal(loc=a, scale=np.sqrt(sigma_2), size=n_sample)\n",
    "weights = norm.pdf(z_imp) / norm.pdf(z_imp, loc=a, scale=np.sqrt(sigma_2))\n",
    "prob_imp = np.mean((z_imp > a) * weights)\n",
    "print(prob_imp)\n",
    "\n",
    "print(1 - norm.cdf(a))\n"
   ]
  },
  {
   "cell_type": "markdown",
   "id": "07347abd",
   "metadata": {},
   "source": [
    "Exercise 8"
   ]
  },
  {
   "cell_type": "code",
   "execution_count": 10,
   "id": "5e5192d5",
   "metadata": {},
   "outputs": [
    {
     "name": "stdout",
     "output_type": "stream",
     "text": [
      "2.4020587749856643\n"
     ]
    }
   ],
   "source": [
    "lam = 1.3\n",
    "n_sample = 1000\n",
    "\n",
    "x = np.random.exponential(1/lam, n_sample)  # scale = 1/λ in NumPy\n",
    "g = lam * np.exp(- lam * x)\n",
    "\n",
    "mask = (x > 0) & (x < 1)\n",
    "res = np.mean(np.exp(x[mask]) / g[mask])\n",
    "\n",
    "print(res)"
   ]
  },
  {
   "cell_type": "code",
   "execution_count": 11,
   "id": "4385080b",
   "metadata": {},
   "outputs": [
    {
     "data": {
      "image/png": "[encoded data removed]",
      "text/plain": [
       "<Figure size 640x480 with 1 Axes>"
      ]
     },
     "metadata": {},
     "output_type": "display_data"
    }
   ],
   "source": [
    "import numpy as np\n",
    "import matplotlib.pyplot as plt\n",
    "from scipy.optimize import minimize_scalar\n",
    "\n",
    "lambdas = np.linspace(0.1, 5, 300)\n",
    "f = (np.exp(lambdas + 2) - 1) / (lambdas * (lambdas + 2)) - (np.e - 1)**2\n",
    "\n",
    "plt.plot(lambdas, f)\n",
    "plt.xlabel(\"λ\")\n",
    "plt.ylabel(\"Theoretical ariance\")\n",
    "plt.title(\"Variance IS against λ\")\n",
    "plt.grid(True)\n",
    "plt.show()"
   ]
  },
  {
   "cell_type": "markdown",
   "id": "2834916b",
   "metadata": {},
   "source": [
    "Exercise 9"
   ]
  },
  {
   "cell_type": "code",
   "execution_count": 12,
   "id": "1783a64e",
   "metadata": {},
   "outputs": [
    {
     "name": "stdout",
     "output_type": "stream",
     "text": [
      "1.6595862626438194\n"
     ]
    }
   ],
   "source": [
    "from scipy.stats import pareto\n",
    "\n",
    "import matplotlib.pyplot as plt\n",
    "\n",
    "# Parameters for the Pareto distribution\n",
    "b = 2.62  # shape parameter\n",
    "size = 1000\n",
    "\n",
    "# Generate Pareto samples\n",
    "pareto_samples = pareto.rvs(b, size=size)\n",
    "\n",
    "mean_par = np.mean(pareto_samples)\n",
    "print(mean_par)\n",
    "\n"
   ]
  }
 ],
 "metadata": {
  "kernelspec": {
   "display_name": "stochastic_simulation_env",
   "language": "python",
   "name": "python3"
  },
  "language_info": {
   "codemirror_mode": {
    "name": "ipython",
    "version": 3
   },
   "file_extension": ".py",
   "mimetype": "text/x-python",
   "name": "python",
   "nbconvert_exporter": "python",
   "pygments_lexer": "ipython3",
   "version": "3.11.8"
  }
 },
 "nbformat": 4,
 "nbformat_minor": 5
}
